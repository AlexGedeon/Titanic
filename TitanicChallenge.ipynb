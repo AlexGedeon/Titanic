{
 "cells": [
  {
   "cell_type": "markdown",
   "metadata": {},
   "source": [
    "\n",
    "## 0. Summary ##\n",
    "Erreichter Score: *0.73206*<br>\n",
    "https://www.kaggle.com/gedkon <br>"
   ]
  },
  {
   "cell_type": "code",
   "execution_count": 16,
   "metadata": {
    "collapsed": true
   },
   "outputs": [],
   "source": [
    "# Laden der Module\n",
    "import matplotlib.pyplot as mp\n",
    "import math\n",
    "import numpy as np\n",
    "%matplotlib inline\n",
    "import pandas as pd\n",
    "pd.options.display.max_columns = 100\n",
    "from matplotlib import pyplot as plt\n",
    "import matplotlib\n",
    "matplotlib.style.use('ggplot')\n",
    "import numpy as np\n",
    "\n",
    "# Laden der Daten\n",
    "train_data = pd.read_csv('data/train.csv')\n",
    "test_data = pd.read_csv('data/test.csv')\n",
    "\n",
    "# Hilfsfunktion zur lesbaren Darstellung von Floats\n",
    "float_formatter = lambda x: \"%.3f\" % x"
   ]
  },
  {
   "cell_type": "markdown",
   "metadata": {},
   "source": [
    "## 1. Feature Engineering ##"
   ]
  },
  {
   "cell_type": "code",
   "execution_count": 17,
   "metadata": {
    "collapsed": true
   },
   "outputs": [],
   "source": [
    "# Begutachtung der Daten\n",
    "#train_data.describe()\n",
    "#test_data.describe()\n",
    "\n",
    "# Nullwerte\n",
    "#print(train_data.isnull().sum())\n",
    "#print(train_data.info())\n",
    "\n",
    "#print(test_data.isnull().sum())\n",
    "#print(test_data.info())"
   ]
  },
  {
   "cell_type": "markdown",
   "metadata": {},
   "source": [
    "Bei der Begutachtung der Daten ist aufgefallen, dass nicht alle Altersdaten der Passagiere vorhanden sind.\n",
    "Um das Feature nutzen zu können, werden leere Einträge mit dem Altersdurchschnitt aus den vorhandenen Altersdaten gefüllt.\n",
    "Des weiteren fehlt in den Test-Daten ein Eintrag unter *Fare*. Wir setzen dort ebenfalls den Durchschnittswert von *Fare* ein:"
   ]
  },
  {
   "cell_type": "code",
   "execution_count": 18,
   "metadata": {
    "collapsed": false
   },
   "outputs": [
    {
     "name": "stderr",
     "output_type": "stream",
     "text": [
      "/Users/work/Documents/Studium/S4SS17/WT_Entwicklung/uebung1/venv/lib/python3.6/site-packages/ipykernel_launcher.py:11: SettingWithCopyWarning: \n",
      "A value is trying to be set on a copy of a slice from a DataFrame\n",
      "\n",
      "See the caveats in the documentation: http://pandas.pydata.org/pandas-docs/stable/indexing.html#indexing-view-versus-copy\n",
      "  # This is added back by InteractiveShellApp.init_path()\n",
      "/Users/work/Documents/Studium/S4SS17/WT_Entwicklung/uebung1/venv/lib/python3.6/site-packages/ipykernel_launcher.py:12: SettingWithCopyWarning: \n",
      "A value is trying to be set on a copy of a slice from a DataFrame\n",
      "\n",
      "See the caveats in the documentation: http://pandas.pydata.org/pandas-docs/stable/indexing.html#indexing-view-versus-copy\n",
      "  if sys.path[0] == '':\n",
      "/Users/work/Documents/Studium/S4SS17/WT_Entwicklung/uebung1/venv/lib/python3.6/site-packages/ipykernel_launcher.py:14: SettingWithCopyWarning: \n",
      "A value is trying to be set on a copy of a slice from a DataFrame\n",
      "\n",
      "See the caveats in the documentation: http://pandas.pydata.org/pandas-docs/stable/indexing.html#indexing-view-versus-copy\n",
      "  \n",
      "/Users/work/Documents/Studium/S4SS17/WT_Entwicklung/uebung1/venv/lib/python3.6/site-packages/ipykernel_launcher.py:15: SettingWithCopyWarning: \n",
      "A value is trying to be set on a copy of a slice from a DataFrame\n",
      "\n",
      "See the caveats in the documentation: http://pandas.pydata.org/pandas-docs/stable/indexing.html#indexing-view-versus-copy\n",
      "  from ipykernel import kernelapp as app\n"
     ]
    }
   ],
   "source": [
    "# Ermittlung des Durchschnittsalters über Test- und Train-Daten\n",
    "medF_train = train_data[train_data[\"Sex\"] == \"female\"][\"Age\"].median()\n",
    "medM_train = train_data[train_data[\"Sex\"] == \"male\"][\"Age\"].median()\n",
    "medF_test = test_data[test_data[\"Sex\"] == \"female\"][\"Age\"].median()\n",
    "medM_test = test_data[test_data[\"Sex\"] == \"male\"][\"Age\"].median()\n",
    "\n",
    "medF = np.median(np.array([medF_train, medF_test]))\n",
    "medM = np.median(np.array([medM_train, medM_test]))\n",
    "\n",
    "# Füllen alle leeren Zellen mit dem Durchschnitt\n",
    "train_data[\"Age\"][train_data[\"Sex\"] == \"female\"] = train_data.Age.fillna(medF)\n",
    "train_data[\"Age\"][train_data[\"Sex\"] == \"male\"] = train_data.Age.fillna(medM)\n",
    "\n",
    "test_data[\"Age\"][test_data[\"Sex\"] == \"female\"] = test_data.Age.fillna(medF)\n",
    "test_data[\"Age\"][test_data[\"Sex\"] == \"male\"] = test_data.Age.fillna(medM)\n",
    "\n",
    "# Ermittlung des Durchschnittspreises über Test- und Train-Daten\n",
    "med_fare_train = train_data[\"Fare\"].median()\n",
    "med_fare_test = test_data[\"Fare\"].median()\n",
    "\n",
    "med_fare = np.median(np.array([med_fare_train, med_fare_test]))\n",
    "\n",
    "# Füllen der leeren Zelle mit dem Durchschnitt\n",
    "test_data[\"Fare\"] = test_data.Fare.fillna(med_fare)\n"
   ]
  },
  {
   "cell_type": "markdown",
   "metadata": {},
   "source": [
    "Ersetzung der Features in String-Repräsentation durch korrespondierende Integer-Werte:"
   ]
  },
  {
   "cell_type": "code",
   "execution_count": 19,
   "metadata": {
    "collapsed": true
   },
   "outputs": [],
   "source": [
    "# Geschlecht\n",
    "genders = {\"male\": 1, \"female\": 0}\n",
    "\n",
    "train_data[\"Sex\"] = train_data[\"Sex\"].apply(lambda s: genders.get(s))\n",
    "test_data[\"Sex\"] = test_data[\"Sex\"].apply(lambda s: genders.get(s))\n",
    "\n",
    "# Ort der Einschiffung\n",
    "embarkments = {\"U\": 0, \"S\": 1, \"C\": 2, \"Q\": 3}\n",
    "\n",
    "train_data[\"Embarked\"] = train_data[\"Embarked\"].fillna(\"U\").apply(lambda e: embarkments.get(e))\n",
    "test_data[\"Embarked\"] = test_data[\"Embarked\"].fillna(\"U\").apply(lambda e: embarkments.get(e))"
   ]
  },
  {
   "cell_type": "code",
   "execution_count": 20,
   "metadata": {
    "collapsed": true
   },
   "outputs": [],
   "source": [
    "# Ersetzen der Kabinendaten in den Trainingsdaten\n",
    "train_data[\"Cabin\"] = train_data[\"Cabin\"].replace(to_replace=\"^[A-Z]*\", value=1, regex=True)\n",
    "train_data[\"Cabin\"] = train_data[\"Cabin\"].fillna(0)\n",
    "\n",
    "# Ersetzen der Kabinendaten in den Testdaten\n",
    "test_data[\"Cabin\"] = test_data[\"Cabin\"].replace(to_replace=\"^[A-Z]*\", value=1, regex=True)\n",
    "test_data[\"Cabin\"] = test_data[\"Cabin\"].fillna(0)"
   ]
  },
  {
   "cell_type": "markdown",
   "metadata": {},
   "source": [
    "### Übersicht über die verwendeten Trainingsdaten ###"
   ]
  },
  {
   "cell_type": "code",
   "execution_count": 21,
   "metadata": {
    "collapsed": false,
    "scrolled": true
   },
   "outputs": [
    {
     "data": {
      "text/html": [
       "<div>\n",
       "<style>\n",
       "    .dataframe thead tr:only-child th {\n",
       "        text-align: right;\n",
       "    }\n",
       "\n",
       "    .dataframe thead th {\n",
       "        text-align: left;\n",
       "    }\n",
       "\n",
       "    .dataframe tbody tr th {\n",
       "        vertical-align: top;\n",
       "    }\n",
       "</style>\n",
       "<table border=\"1\" class=\"dataframe\">\n",
       "  <thead>\n",
       "    <tr style=\"text-align: right;\">\n",
       "      <th></th>\n",
       "      <th>PassengerId</th>\n",
       "      <th>Survived</th>\n",
       "      <th>Pclass</th>\n",
       "      <th>Name</th>\n",
       "      <th>Sex</th>\n",
       "      <th>Age</th>\n",
       "      <th>SibSp</th>\n",
       "      <th>Parch</th>\n",
       "      <th>Ticket</th>\n",
       "      <th>Fare</th>\n",
       "      <th>Cabin</th>\n",
       "      <th>Embarked</th>\n",
       "    </tr>\n",
       "  </thead>\n",
       "  <tbody>\n",
       "    <tr>\n",
       "      <th>0</th>\n",
       "      <td>1</td>\n",
       "      <td>0</td>\n",
       "      <td>3</td>\n",
       "      <td>Braund, Mr. Owen Harris</td>\n",
       "      <td>1</td>\n",
       "      <td>22.0</td>\n",
       "      <td>1</td>\n",
       "      <td>0</td>\n",
       "      <td>A/5 21171</td>\n",
       "      <td>7.2500</td>\n",
       "      <td>0.0</td>\n",
       "      <td>1</td>\n",
       "    </tr>\n",
       "    <tr>\n",
       "      <th>1</th>\n",
       "      <td>2</td>\n",
       "      <td>1</td>\n",
       "      <td>1</td>\n",
       "      <td>Cumings, Mrs. John Bradley (Florence Briggs Th...</td>\n",
       "      <td>0</td>\n",
       "      <td>38.0</td>\n",
       "      <td>1</td>\n",
       "      <td>0</td>\n",
       "      <td>PC 17599</td>\n",
       "      <td>71.2833</td>\n",
       "      <td>1.0</td>\n",
       "      <td>2</td>\n",
       "    </tr>\n",
       "    <tr>\n",
       "      <th>2</th>\n",
       "      <td>3</td>\n",
       "      <td>1</td>\n",
       "      <td>3</td>\n",
       "      <td>Heikkinen, Miss. Laina</td>\n",
       "      <td>0</td>\n",
       "      <td>26.0</td>\n",
       "      <td>0</td>\n",
       "      <td>0</td>\n",
       "      <td>STON/O2. 3101282</td>\n",
       "      <td>7.9250</td>\n",
       "      <td>0.0</td>\n",
       "      <td>1</td>\n",
       "    </tr>\n",
       "    <tr>\n",
       "      <th>3</th>\n",
       "      <td>4</td>\n",
       "      <td>1</td>\n",
       "      <td>1</td>\n",
       "      <td>Futrelle, Mrs. Jacques Heath (Lily May Peel)</td>\n",
       "      <td>0</td>\n",
       "      <td>35.0</td>\n",
       "      <td>1</td>\n",
       "      <td>0</td>\n",
       "      <td>113803</td>\n",
       "      <td>53.1000</td>\n",
       "      <td>1.0</td>\n",
       "      <td>1</td>\n",
       "    </tr>\n",
       "    <tr>\n",
       "      <th>4</th>\n",
       "      <td>5</td>\n",
       "      <td>0</td>\n",
       "      <td>3</td>\n",
       "      <td>Allen, Mr. William Henry</td>\n",
       "      <td>1</td>\n",
       "      <td>35.0</td>\n",
       "      <td>0</td>\n",
       "      <td>0</td>\n",
       "      <td>373450</td>\n",
       "      <td>8.0500</td>\n",
       "      <td>0.0</td>\n",
       "      <td>1</td>\n",
       "    </tr>\n",
       "    <tr>\n",
       "      <th>5</th>\n",
       "      <td>6</td>\n",
       "      <td>0</td>\n",
       "      <td>3</td>\n",
       "      <td>Moran, Mr. James</td>\n",
       "      <td>1</td>\n",
       "      <td>28.0</td>\n",
       "      <td>0</td>\n",
       "      <td>0</td>\n",
       "      <td>330877</td>\n",
       "      <td>8.4583</td>\n",
       "      <td>0.0</td>\n",
       "      <td>3</td>\n",
       "    </tr>\n",
       "    <tr>\n",
       "      <th>6</th>\n",
       "      <td>7</td>\n",
       "      <td>0</td>\n",
       "      <td>1</td>\n",
       "      <td>McCarthy, Mr. Timothy J</td>\n",
       "      <td>1</td>\n",
       "      <td>54.0</td>\n",
       "      <td>0</td>\n",
       "      <td>0</td>\n",
       "      <td>17463</td>\n",
       "      <td>51.8625</td>\n",
       "      <td>1.0</td>\n",
       "      <td>1</td>\n",
       "    </tr>\n",
       "    <tr>\n",
       "      <th>7</th>\n",
       "      <td>8</td>\n",
       "      <td>0</td>\n",
       "      <td>3</td>\n",
       "      <td>Palsson, Master. Gosta Leonard</td>\n",
       "      <td>1</td>\n",
       "      <td>2.0</td>\n",
       "      <td>3</td>\n",
       "      <td>1</td>\n",
       "      <td>349909</td>\n",
       "      <td>21.0750</td>\n",
       "      <td>0.0</td>\n",
       "      <td>1</td>\n",
       "    </tr>\n",
       "    <tr>\n",
       "      <th>8</th>\n",
       "      <td>9</td>\n",
       "      <td>1</td>\n",
       "      <td>3</td>\n",
       "      <td>Johnson, Mrs. Oscar W (Elisabeth Vilhelmina Berg)</td>\n",
       "      <td>0</td>\n",
       "      <td>27.0</td>\n",
       "      <td>0</td>\n",
       "      <td>2</td>\n",
       "      <td>347742</td>\n",
       "      <td>11.1333</td>\n",
       "      <td>0.0</td>\n",
       "      <td>1</td>\n",
       "    </tr>\n",
       "    <tr>\n",
       "      <th>9</th>\n",
       "      <td>10</td>\n",
       "      <td>1</td>\n",
       "      <td>2</td>\n",
       "      <td>Nasser, Mrs. Nicholas (Adele Achem)</td>\n",
       "      <td>0</td>\n",
       "      <td>14.0</td>\n",
       "      <td>1</td>\n",
       "      <td>0</td>\n",
       "      <td>237736</td>\n",
       "      <td>30.0708</td>\n",
       "      <td>0.0</td>\n",
       "      <td>2</td>\n",
       "    </tr>\n",
       "  </tbody>\n",
       "</table>\n",
       "</div>"
      ],
      "text/plain": [
       "   PassengerId  Survived  Pclass  \\\n",
       "0            1         0       3   \n",
       "1            2         1       1   \n",
       "2            3         1       3   \n",
       "3            4         1       1   \n",
       "4            5         0       3   \n",
       "5            6         0       3   \n",
       "6            7         0       1   \n",
       "7            8         0       3   \n",
       "8            9         1       3   \n",
       "9           10         1       2   \n",
       "\n",
       "                                                Name  Sex   Age  SibSp  Parch  \\\n",
       "0                            Braund, Mr. Owen Harris    1  22.0      1      0   \n",
       "1  Cumings, Mrs. John Bradley (Florence Briggs Th...    0  38.0      1      0   \n",
       "2                             Heikkinen, Miss. Laina    0  26.0      0      0   \n",
       "3       Futrelle, Mrs. Jacques Heath (Lily May Peel)    0  35.0      1      0   \n",
       "4                           Allen, Mr. William Henry    1  35.0      0      0   \n",
       "5                                   Moran, Mr. James    1  28.0      0      0   \n",
       "6                            McCarthy, Mr. Timothy J    1  54.0      0      0   \n",
       "7                     Palsson, Master. Gosta Leonard    1   2.0      3      1   \n",
       "8  Johnson, Mrs. Oscar W (Elisabeth Vilhelmina Berg)    0  27.0      0      2   \n",
       "9                Nasser, Mrs. Nicholas (Adele Achem)    0  14.0      1      0   \n",
       "\n",
       "             Ticket     Fare  Cabin  Embarked  \n",
       "0         A/5 21171   7.2500    0.0         1  \n",
       "1          PC 17599  71.2833    1.0         2  \n",
       "2  STON/O2. 3101282   7.9250    0.0         1  \n",
       "3            113803  53.1000    1.0         1  \n",
       "4            373450   8.0500    0.0         1  \n",
       "5            330877   8.4583    0.0         3  \n",
       "6             17463  51.8625    1.0         1  \n",
       "7            349909  21.0750    0.0         1  \n",
       "8            347742  11.1333    0.0         1  \n",
       "9            237736  30.0708    0.0         2  "
      ]
     },
     "execution_count": 21,
     "metadata": {},
     "output_type": "execute_result"
    }
   ],
   "source": [
    "train_data.head(10)"
   ]
  },
  {
   "cell_type": "code",
   "execution_count": 22,
   "metadata": {
    "collapsed": true
   },
   "outputs": [],
   "source": [
    "#train_data.describe()\n",
    "#test_data.describe()\n",
    "\n",
    "# Nullwerte\n",
    "#print(train_data.isnull().sum())\n",
    "#print(train_data.info())\n",
    "\n",
    "#print(test_data.isnull().sum())\n",
    "#print(test_data.info())"
   ]
  },
  {
   "cell_type": "markdown",
   "metadata": {},
   "source": [
    "Die gewählten Features werden zur Klassifizierung von Pandas-Dataframe in NumPy-Arrays konvertiert:"
   ]
  },
  {
   "cell_type": "code",
   "execution_count": 23,
   "metadata": {
    "collapsed": true
   },
   "outputs": [],
   "source": [
    "# 'Survived' ist unser Zielwert Y\n",
    "data_Y = train_data['Survived'].as_matrix()\n",
    "Y = np.array([data_Y])\n",
    "\n",
    "# Folgende weiteren Spalten sind unsere Input-Features\n",
    "x1 = train_data['Pclass'].as_matrix()\n",
    "x2 = train_data['Sex'].as_matrix()\n",
    "x3 = train_data['Age'].as_matrix()\n",
    "x4 = train_data['SibSp'].as_matrix()\n",
    "x5 = train_data['Parch'].as_matrix()\n",
    "x6 = train_data['Fare'].as_matrix()\n",
    "x7 = train_data['Embarked'].as_matrix()\n",
    "x8 = train_data['Cabin'].as_matrix()\n",
    "\n",
    "TRAIN = np.array([x1, x2, x3, x4, x5, x6, x7])\n",
    "\n",
    "# Input-Features der Testdaten\n",
    "t1 = test_data['Pclass'].as_matrix()\n",
    "t2 = test_data['Sex'].as_matrix()\n",
    "t3 = test_data['Age'].as_matrix()\n",
    "t4 = test_data['SibSp'].as_matrix()\n",
    "t5 = test_data['Parch'].as_matrix()\n",
    "t6 = test_data['Fare'].as_matrix()\n",
    "t7 = test_data['Embarked'].as_matrix()\n",
    "t8 = test_data['Cabin'].as_matrix()\n",
    "\n",
    "TEST = np.array([t1, t2, t3, t4, t5, t6, t7])"
   ]
  },
  {
   "cell_type": "markdown",
   "metadata": {},
   "source": [
    "## 2. Klassifizierung ##\n",
    "\n",
    "Die Zielwerte sind *binär* bzw. in diesem Fall ist es ein Zwei-Klassenproblem *Survived ∈ {0, 1}*. ->  *logistische Regression*, da diese besonders für Binärkoeffizienten geeignet ist."
   ]
  },
  {
   "cell_type": "code",
   "execution_count": 24,
   "metadata": {
    "collapsed": false
   },
   "outputs": [
    {
     "name": "stdout",
     "output_type": "stream",
     "text": [
      "Thetas:\n",
      " [ 1.          1.85714286  2.71428571  3.57142857  4.42857143  5.28571429\n",
      "  6.14285714  7.        ]\n"
     ]
    }
   ],
   "source": [
    "# Anzahl der Features\n",
    "m = TRAIN.shape[0]\n",
    "\n",
    "# Wir erzeugen m+1 THETA-Werte als Startwerte für den Regressionsalgorithmus\n",
    "thetas = np.linspace(1, m, m+1)\n",
    "print(\"Thetas:\\n\", thetas)"
   ]
  },
  {
   "cell_type": "markdown",
   "metadata": {},
   "source": [
    "Hypothese: *h(x) = g(z)*, wobei *z = Thetas *\\* *x* und *g(z) = 1/1 + e^(-z)*<br>\n",
    "Funktion soll vorhersagen *Survived = 0*, wenn *h(x) < 0.5* und *Survived = 1*, wenn *h(x) >= 0.5*"
   ]
  },
  {
   "cell_type": "code",
   "execution_count": 25,
   "metadata": {
    "collapsed": true
   },
   "outputs": [],
   "source": [
    "def hypothesis(thetas):\n",
    "    t = thetas[1:]\n",
    "    return lambda x: 1/(1 + np.exp(-thetas[0] -  np.dot(x.transpose(),t)))\n",
    "\n",
    "h = hypothesis(thetas)"
   ]
  },
  {
   "cell_type": "markdown",
   "metadata": {},
   "source": [
    "Feature Scaling mittels Standardisierung:"
   ]
  },
  {
   "cell_type": "code",
   "execution_count": 26,
   "metadata": {
    "collapsed": true
   },
   "outputs": [],
   "source": [
    "def feature_scaling(feature):\n",
    "    return (feature - feature.mean()) / feature.std()\n",
    "\n",
    "for key, feature in enumerate(TRAIN):\n",
    "    TRAIN[key] = feature_scaling(feature)\n",
    "\n",
    "for key, feature in enumerate(TEST):\n",
    "    TEST[key] = feature_scaling(feature)\n"
   ]
  },
  {
   "cell_type": "markdown",
   "metadata": {},
   "source": [
    "Kostenfunktion: 1/m \\* ∑ cost(h(x),y) <br>\n",
    "wobei cost(h(x), y) = - y \\* log(h(x)) - (1 - y) \\* log(1 - h(x))"
   ]
  },
  {
   "cell_type": "code",
   "execution_count": 27,
   "metadata": {
    "collapsed": true
   },
   "outputs": [],
   "source": [
    "def cost_function(h, X, Y):\n",
    "    m = X.shape[1]\n",
    "    def f(thetas):\n",
    "        h = hypothesis(thetas)\n",
    "        return (-1./m) * (Y*np.log(h(X)) + (1 - Y)*np.log(1 - h(X))).sum()\n",
    "    \n",
    "    return f \n",
    "\n",
    "j = cost_function(hypothesis, TRAIN, Y)"
   ]
  },
  {
   "cell_type": "markdown",
   "metadata": {},
   "source": [
    "Gradientenabstiegsverfahren<br>\n",
    "*compute_new_theta* ist die Update-Rule zum Erzeugen neuer Theta-Werte. In *thetas_opt* werden die ermittelten optimalen Thetas mit minimalen Kosten gespeichert."
   ]
  },
  {
   "cell_type": "code",
   "execution_count": 28,
   "metadata": {
    "collapsed": false
   },
   "outputs": [
    {
     "name": "stderr",
     "output_type": "stream",
     "text": [
      "/Users/work/Documents/Studium/S4SS17/WT_Entwicklung/uebung1/venv/lib/python3.6/site-packages/ipykernel_launcher.py:5: RuntimeWarning: divide by zero encountered in log\n",
      "  \"\"\"\n",
      "/Users/work/Documents/Studium/S4SS17/WT_Entwicklung/uebung1/venv/lib/python3.6/site-packages/ipykernel_launcher.py:5: RuntimeWarning: invalid value encountered in multiply\n",
      "  \"\"\"\n"
     ]
    },
    {
     "name": "stdout",
     "output_type": "stream",
     "text": [
      "Startwerte Thetas:\n",
      " [ 1.          1.85714286  2.71428571  3.57142857  4.42857143  5.28571429\n",
      "  6.14285714  7.        ] \n",
      "Best-Fit Thetas:\n",
      " [-5.12131181 -4.26416895 -3.40702609 -2.54988324 -1.69274038 -0.83559752\n",
      "  0.02154534  0.87868819]\n"
     ]
    }
   ],
   "source": [
    "def compute_new_theta(x, y, thetas, alpha):\n",
    "    m = Y.shape[1]\n",
    "    return thetas - alpha * 1 / m * (((1/(1 + np.exp(-thetas[0] +  np.dot(x.transpose(), -thetas[1:])))) - y) * x).sum()\n",
    "\n",
    "# Testwerte für den Gradientenabstieg\n",
    "#alpha = np.linspace(0.01, 0.001, 4)\n",
    "# Durch Testen ermittelter Wert\n",
    "alpha = [0.005]\n",
    "\n",
    "# Anzahl der Iteration zur Minimierung der Kosten (ermittelt durch Testen)\n",
    "iterations = 10000\n",
    "thetas_opt = np.zeros(m)\n",
    "\n",
    "# Gradientenabstiegsverfahren für iterations * alpha\n",
    "def gradient_descent(alpha, thetas, iterations, x, y):\n",
    "    costs = np.zeros([len(alpha), iterations])\n",
    "    for a in range(len(alpha)):\n",
    "        thetas_sum = np.zeros([iterations])\n",
    "        for i in range(0, iterations):\n",
    "            thetas = compute_new_theta(TRAIN, Y, thetas, alpha[a])\n",
    "            costs[a][i] = j(thetas)      \n",
    "            thetas_sum[i] = thetas.sum()\n",
    "    return thetas_sum, costs, thetas\n",
    "\n",
    "thetas_sum, costs, thetas_opt = gradient_descent(alpha,thetas,iterations, TRAIN, Y)\n",
    "\n",
    "print(\"Startwerte Thetas:\\n\", thetas, \"\\nBest-Fit Thetas:\\n\", thetas_opt)"
   ]
  },
  {
   "cell_type": "markdown",
   "metadata": {},
   "source": [
    "Visualisierung des Gradientenabstiegsverfahren:"
   ]
  },
  {
   "cell_type": "code",
   "execution_count": 29,
   "metadata": {
    "collapsed": false
   },
   "outputs": [
    {
     "data": {
      "image/png": "[encoded data removed]",
      "text/plain": [
       "<matplotlib.figure.Figure at 0x10d4799b0>"
      ]
     },
     "metadata": {},
     "output_type": "display_data"
    }
   ],
   "source": [
    "fig = plt.figure()\n",
    "plt.xlabel('Iterationen')\n",
    "plt.ylabel('Kosten')\n",
    "\n",
    "for i, c in enumerate(costs):\n",
    "    plt.plot(costs[i])\n"
   ]
  },
  {
   "cell_type": "markdown",
   "metadata": {},
   "source": [
    "Die aufsummierten Thetas zeigen, daß Konvergenz erreicht wird:"
   ]
  },
  {
   "cell_type": "code",
   "execution_count": 30,
   "metadata": {
    "collapsed": false
   },
   "outputs": [
    {
     "data": {
      "text/plain": [
       "[<matplotlib.lines.Line2D at 0x10d691198>]"
      ]
     },
     "execution_count": 30,
     "metadata": {},
     "output_type": "execute_result"
    },
    {
     "data": {
      "image/png": "[encoded data removed]",
      "text/plain": [
       "<matplotlib.figure.Figure at 0x10d479c50>"
      ]
     },
     "metadata": {},
     "output_type": "display_data"
    }
   ],
   "source": [
    "fig = plt.figure()\n",
    "plt.xlabel('Iterationen')\n",
    "plt.ylabel('Thetas')\n",
    "plt.plot(thetas_sum)"
   ]
  },
  {
   "cell_type": "markdown",
   "metadata": {},
   "source": [
    "## 3. Ergebnisse ##\n",
    "Die ermittelten Thetas teste ich mithilfe der Trainingsdaten. Dann wende ich die Hypothese auf die Testdaten an und gebe die Ergebnisse aus:"
   ]
  },
  {
   "cell_type": "code",
   "execution_count": 31,
   "metadata": {
    "collapsed": false,
    "scrolled": false
   },
   "outputs": [
    {
     "name": "stdout",
     "output_type": "stream",
     "text": [
      "Gesamtanzahl Datensätze: 891\n",
      "'Survived' vorhergesagt:  195 \n",
      "'Survived' laut Trainingsdaten: 342\n",
      "Insgesamt korrekt vorhergesagt:  680 in Prozent:  76.319 %\n"
     ]
    }
   ],
   "source": [
    "# TEST mit Trainingsdaten\n",
    "H = hypothesis(thetas_opt)\n",
    "\n",
    "result_hypothese = 0\n",
    "result_train = 0\n",
    "correct = 0\n",
    "\n",
    "print(\"Gesamtanzahl Datensätze:\", Y[0].size)\n",
    "\n",
    "RESULT = [[0 for x in range(2)] for y in range(0, Y[0].size)] \n",
    "\n",
    "# Vorhersage Trainingsdaten\n",
    "for i,val in enumerate(H(TRAIN)):\n",
    "    if (val >= 0.5):\n",
    "        result_hypothese = result_hypothese + 1\n",
    "        RESULT[i][0] = 1\n",
    "    else:\n",
    "        RESULT[i][0] = 0\n",
    "\n",
    "# Ziel (Y-Werte)\n",
    "for i,val in enumerate(Y[0]):\n",
    "    if (val == 1):\n",
    "        result_train = result_train + 1\n",
    "        RESULT[i][1] = 1\n",
    "    else:\n",
    "        RESULT[i][1] = 0\n",
    "\n",
    "print(\"'Survived' vorhergesagt: \", result_hypothese, \"\\n'Survived' laut Trainingsdaten:\", result_train)\n",
    "\n",
    "# Vergleichen von Vorhersage und Ziel\n",
    "for i,val in enumerate(RESULT):\n",
    "    if (val[0] == val[1]):\n",
    "        correct = correct + 1\n",
    "\n",
    "correct_percent = correct / (Y[0].size / 100)\n",
    "print (\"Insgesamt korrekt vorhergesagt: \", correct, \"in Prozent: \", float_formatter(correct_percent), \"%\")\n",
    "\n"
   ]
  },
  {
   "cell_type": "code",
   "execution_count": 32,
   "metadata": {
    "collapsed": false
   },
   "outputs": [
    {
     "name": "stdout",
     "output_type": "stream",
     "text": [
      "Datensätze gesamt:  418  davon 'Survived': 74\n"
     ]
    }
   ],
   "source": [
    "# Ermittlung der Zielwerte der Testdaten\n",
    "H = hypothesis(thetas_opt)\n",
    "\n",
    "result_hypothese = 0\n",
    "RESULT = [0 for x in range(TEST[0].size)]\n",
    "\n",
    "for i,val in enumerate(H(TEST)):\n",
    "    if (val >= 0.5):\n",
    "        result_hypothese = result_hypothese + 1\n",
    "        RESULT[i] = 1\n",
    "    else:\n",
    "        RESULT[i] = 0\n",
    "    \n",
    "print(\"Datensätze gesamt: \", TEST[0].size, \" davon 'Survived':\", result_hypothese)\n",
    "\n"
   ]
  },
  {
   "cell_type": "markdown",
   "metadata": {
    "collapsed": true
   },
   "source": [
    "Zum Abschluss erzeuge ich eine CSV-Datei, die ich bei Kaggle hochlade:"
   ]
  },
  {
   "cell_type": "code",
   "execution_count": 33,
   "metadata": {
    "collapsed": true
   },
   "outputs": [],
   "source": [
    "survived = pd.DataFrame({'Survived' : RESULT, 'PassengerId' : test_data[\"PassengerId\"]})\n",
    "survived.to_csv('data/result.csv', index=False)"
   ]
  },
  {
   "cell_type": "code",
   "execution_count": null,
   "metadata": {
    "collapsed": true
   },
   "outputs": [],
   "source": []
  }
 ],
 "metadata": {
  "kernelspec": {
   "display_name": "Python 2",
   "language": "python",
   "name": "python2"
  },
  "language_info": {
   "codemirror_mode": {
    "name": "ipython",
    "version": 2
   },
   "file_extension": ".py",
   "mimetype": "text/x-python",
   "name": "python",
   "nbconvert_exporter": "python",
   "pygments_lexer": "ipython2",
   "version": "2.7.13"
  }
 },
 "nbformat": 4,
 "nbformat_minor": 2
}
